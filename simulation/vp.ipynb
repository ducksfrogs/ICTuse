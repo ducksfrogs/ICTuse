{
 "cells": [
  {
   "cell_type": "markdown",
   "id": "44443e18",
   "metadata": {},
   "source": [
    "# import vpython as vp\n",
    "\n",
    "b = vp.box()\n",
    "\n",
    "b.color = vp.vector(1, 1, 0)\n",
    "b.size = vp.vector(1, 2, 5)\n",
    "b.pos = vp.vector(2, 0, -5)\n"
   ]
  },
  {
   "cell_type": "code",
   "execution_count": 2,
   "id": "37043d66",
   "metadata": {},
   "outputs": [
    {
     "data": {
      "text/html": [
       "<div id=\"glowscript\" class=\"glowscript\"></div>"
      ],
      "text/plain": [
       "<IPython.core.display.HTML object>"
      ]
     },
     "metadata": {},
     "output_type": "display_data"
    },
    {
     "data": {
      "application/javascript": [
       "if (typeof Jupyter !== \"undefined\") { window.__context = { glowscript_container: $(\"#glowscript\").removeAttr(\"id\")};}else{ element.textContent = ' ';}"
      ],
      "text/plain": [
       "<IPython.core.display.Javascript object>"
      ]
     },
     "metadata": {},
     "output_type": "display_data"
    }
   ],
   "source": [
    "scene = vp.canvas(width=600, height=600, title='cube-Spring')\n"
   ]
  },
  {
   "cell_type": "code",
   "execution_count": null,
   "id": "1701b6e5",
   "metadata": {},
   "outputs": [],
   "source": []
  }
 ],
 "metadata": {
  "kernelspec": {
   "display_name": "Python 3 (ipykernel)",
   "language": "python",
   "name": "python3"
  },
  "language_info": {
   "codemirror_mode": {
    "name": "ipython",
    "version": 3
   },
   "file_extension": ".py",
   "mimetype": "text/x-python",
   "name": "python",
   "nbconvert_exporter": "python",
   "pygments_lexer": "ipython3",
   "version": "3.9.12"
  }
 },
 "nbformat": 4,
 "nbformat_minor": 5
}
