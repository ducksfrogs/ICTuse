{
 "cells": [
  {
   "cell_type": "code",
   "execution_count": 1,
   "id": "5f268209-1647-40a2-b75c-b29e71ba7fbb",
   "metadata": {},
   "outputs": [],
   "source": [
    "import numpy as np\n",
    "import pandas as pd\n",
    "import matplotlib.pyplot as plt"
   ]
  },
  {
   "cell_type": "code",
   "execution_count": null,
   "id": "5572ca98-7017-4361-90e1-c3de1587a49d",
   "metadata": {},
   "outputs": [],
   "source": [
    "dT = 10**(-8)"
   ]
  },
  {
   "cell_type": "code",
   "execution_count": null,
   "id": "8ff11506-db63-41cf-a626-e3769480a1e8",
   "metadata": {},
   "outputs": [],
   "source": [
    "dT"
   ]
  },
  {
   "cell_type": "code",
   "execution_count": null,
   "id": "b3a24b6c-4572-4a1a-be6a-40b332b0deeb",
   "metadata": {},
   "outputs": [],
   "source": [
    "loopmax = 100000000\n",
    "time = 0"
   ]
  },
  {
   "cell_type": "code",
   "execution_count": null,
   "id": "634945ed-19f6-4988-b347-0766061de760",
   "metadata": {},
   "outputs": [],
   "source": [
    "for i in range(loopmax):\n",
    "    time += dT"
   ]
  },
  {
   "cell_type": "code",
   "execution_count": null,
   "id": "62360e45-604f-477d-a878-6096f5dff632",
   "metadata": {},
   "outputs": [],
   "source": [
    "time"
   ]
  },
  {
   "cell_type": "code",
   "execution_count": null,
   "id": "9d72b138-5344-4a8f-8ead-debcac94ae82",
   "metadata": {},
   "outputs": [],
   "source": [
    "count = 0\n"
   ]
  },
  {
   "cell_type": "code",
   "execution_count": null,
   "id": "35c08881-b9dc-4de7-a5f0-ec7db094c77f",
   "metadata": {},
   "outputs": [],
   "source": [
    "for i in range(loopmax):\n",
    "    count += 1\n",
    "    time = count + dT"
   ]
  },
  {
   "cell_type": "code",
   "execution_count": null,
   "id": "d3caf386-6a88-4a7c-9db9-f523b4258e9d",
   "metadata": {},
   "outputs": [],
   "source": [
    "time"
   ]
  },
  {
   "cell_type": "code",
   "execution_count": null,
   "id": "1d8de77c-97a3-4437-a7a7-f7fa09a6f835",
   "metadata": {},
   "outputs": [],
   "source": [
    "a = np.float32(1000.)"
   ]
  },
  {
   "cell_type": "code",
   "execution_count": null,
   "id": "15d35cfc-d620-46dc-b38d-05182d5bec37",
   "metadata": {},
   "outputs": [],
   "source": [
    "a"
   ]
  },
  {
   "cell_type": "code",
   "execution_count": null,
   "id": "04847015-eb45-4aac-ab77-73da56bcfee2",
   "metadata": {},
   "outputs": [],
   "source": [
    "b = np.float32(10**(-8))"
   ]
  },
  {
   "cell_type": "code",
   "execution_count": null,
   "id": "7ae0e4d3-62bb-4bf2-a924-c6f6518a47ba",
   "metadata": {},
   "outputs": [],
   "source": [
    "b"
   ]
  },
  {
   "cell_type": "code",
   "execution_count": null,
   "id": "39d6e167-a1a0-4235-a156-3f3bf4f319ae",
   "metadata": {},
   "outputs": [],
   "source": [
    "x1 = (2*a + np.sqrt((2*a)**2 -4*(a**2-b)))/2"
   ]
  },
  {
   "cell_type": "code",
   "execution_count": null,
   "id": "7e3786f6-96d8-4db8-bf3c-a92f34a02b48",
   "metadata": {},
   "outputs": [],
   "source": [
    "x1"
   ]
  },
  {
   "cell_type": "code",
   "execution_count": 4,
   "id": "de6f215c-d455-405d-9fa2-85943083e0f7",
   "metadata": {},
   "outputs": [],
   "source": [
    "import matplotlib.animation as animation"
   ]
  },
  {
   "cell_type": "code",
   "execution_count": null,
   "id": "05a7698f-1262-42ca-97df-19121a9d2178",
   "metadata": {},
   "outputs": [],
   "source": [
    "fig = plt.figure()\n",
    "imgBuffer = []\n",
    "mark_list = [\"4\", \"8\", \"p\", \"*\", \"D\", \"4\", \"8\", \"p\", \"*\"]\n",
    "loop = len(mark_list)\n",
    "num = 8"
   ]
  },
  {
   "cell_type": "code",
   "execution_count": 5,
   "id": "983fab4f-c0e5-4b63-a7ab-e51c4b56c16d",
   "metadata": {},
   "outputs": [
    {
     "ename": "NameError",
     "evalue": "name 'loop' is not defined",
     "output_type": "error",
     "traceback": [
      "\u001b[0;31m---------------------------------------------------------------------------\u001b[0m",
      "\u001b[0;31mNameError\u001b[0m                                 Traceback (most recent call last)",
      "Input \u001b[0;32mIn [5]\u001b[0m, in \u001b[0;36m<cell line: 1>\u001b[0;34m()\u001b[0m\n\u001b[0;32m----> 1\u001b[0m \u001b[38;5;28;01mfor\u001b[39;00m i \u001b[38;5;129;01min\u001b[39;00m \u001b[38;5;28mrange\u001b[39m(\u001b[43mloop\u001b[49m):\n\u001b[1;32m      2\u001b[0m     x \u001b[38;5;241m=\u001b[39m np\u001b[38;5;241m.\u001b[39mrandom\u001b[38;5;241m.\u001b[39mrandn(num)\n\u001b[1;32m      3\u001b[0m     y \u001b[38;5;241m=\u001b[39m np\u001b[38;5;241m.\u001b[39mrandom\u001b[38;5;241m.\u001b[39mrandn(num)\n",
      "\u001b[0;31mNameError\u001b[0m: name 'loop' is not defined"
     ]
    }
   ],
   "source": [
    "for i in range(loop):\n",
    "    x = np.random.randn(num)\n",
    "    y = np.random.randn(num)\n",
    "    img = plt.plot(x, y, linewidth=0, marker=mark_list[i], markersize=15)\n",
    "    imgBuffer.append(img)\n",
    "    ts = 300\n",
    "    ani = animation.ArtistAnimation(fig, imgBuffer, interval=ts, repeat=False)"
   ]
  },
  {
   "cell_type": "code",
   "execution_count": null,
   "id": "1c5d4f56-9884-4e73-bd19-32ae2813bb71",
   "metadata": {},
   "outputs": [],
   "source": [
    "ts = 300\n",
    "ani = animation.ArtistAnimation(fig, imgBuffer, interval=ts, repeat=False)"
   ]
  },
  {
   "cell_type": "code",
   "execution_count": 2,
   "id": "285a67e0-c4b4-4c82-9135-cfe9b21352d7",
   "metadata": {},
   "outputs": [],
   "source": [
    "import cartopy.crs as ccrs\n",
    "\n",
    "def update(k, fig_title):\n",
    "    plt.cla()\n",
    "    ax = plt.axes(projection=ccrs.Orthographic(central_longitude=(-k),central_latitude=0))\n",
    "    ax.coastlines()\n",
    "    plt.title(fig_title)"
   ]
  },
  {
   "cell_type": "code",
   "execution_count": 6,
   "id": "67101ea6-52b5-4a6a-af9e-9a4575e2cfa9",
   "metadata": {},
   "outputs": [
    {
     "data": {
      "text/plain": [
       "<Figure size 432x144 with 0 Axes>"
      ]
     },
     "metadata": {},
     "output_type": "display_data"
    }
   ],
   "source": [
    "fig = plt.figure(figsize=(6,2))\n",
    "x = np.arange(0, 10, 0.1)\n",
    "k = 50000\n",
    "def update(k, fig_title, Amp):\n",
    "    plt.cla()\n",
    "    y = Amp*np.sin(x-k)\n",
    "    plt.plot(x, y, 'r')\n",
    "    plt.xlim(0, 10)\n",
    "    plt.ylim(-1.2*Amp, 1.2*Amp)\n",
    "    plt.title(fig_title + 'Frame k =' + str(k) )\n",
    "\n",
    "\n",
    "ani = animation.FuncAnimation(fig, update, \\\n",
    "    fargs = ('Animation, ', 1.8), \\\n",
    "        interval=100, frames=32, repeat=False)"
   ]
  },
  {
   "cell_type": "code",
   "execution_count": 9,
   "id": "5d049c2f-8f75-4609-93d2-f82b54dc12ac",
   "metadata": {},
   "outputs": [],
   "source": [
    "plt.show()"
   ]
  },
  {
   "cell_type": "code",
   "execution_count": null,
   "id": "a5c3f21f-d10e-4925-9990-d498b21fedf1",
   "metadata": {},
   "outputs": [],
   "source": []
  },
  {
   "cell_type": "code",
   "execution_count": null,
   "id": "1e5b5bae-4ae7-4792-9d60-d44daee2ec7a",
   "metadata": {},
   "outputs": [],
   "source": []
  },
  {
   "cell_type": "code",
   "execution_count": null,
   "id": "edecee56-705b-4cf7-8213-758161bba8e8",
   "metadata": {},
   "outputs": [],
   "source": []
  },
  {
   "cell_type": "code",
   "execution_count": null,
   "id": "40175c29-cd45-4f45-bbd3-3e693ebb2c15",
   "metadata": {},
   "outputs": [],
   "source": []
  }
 ],
 "metadata": {
  "kernelspec": {
   "display_name": "Python 3 (ipykernel)",
   "language": "python",
   "name": "python3"
  },
  "language_info": {
   "codemirror_mode": {
    "name": "ipython",
    "version": 3
   },
   "file_extension": ".py",
   "mimetype": "text/x-python",
   "name": "python",
   "nbconvert_exporter": "python",
   "pygments_lexer": "ipython3",
   "version": "3.9.12"
  }
 },
 "nbformat": 4,
 "nbformat_minor": 5
}
