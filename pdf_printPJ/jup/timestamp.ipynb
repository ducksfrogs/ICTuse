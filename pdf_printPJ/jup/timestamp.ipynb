{
 "cells": [
  {
   "cell_type": "code",
   "execution_count": 31,
   "id": "7ebdb585-033f-4e7d-b53e-9fe022b98ca1",
   "metadata": {},
   "outputs": [],
   "source": [
    "import glob\n",
    "import PyPDF2 as pd"
   ]
  },
  {
   "cell_type": "code",
   "execution_count": 32,
   "id": "717ba373-cff5-442c-8bbc-289f89094aa4",
   "metadata": {},
   "outputs": [],
   "source": [
    "writer = pd.PdfFileWriter()"
   ]
  },
  {
   "cell_type": "code",
   "execution_count": 33,
   "id": "f63b89d2-c626-48a7-9819-7f2c2372d35b",
   "metadata": {},
   "outputs": [],
   "source": [
    "files = glob.glob('../data/*.pdf')"
   ]
  },
  {
   "cell_type": "code",
   "execution_count": 34,
   "id": "7557846d-ad4c-4706-81b1-ce479c93f1c0",
   "metadata": {},
   "outputs": [
    {
     "name": "stdin",
     "output_type": "stream",
     "text": [
      "Enter number of pdf sheets 4\n"
     ]
    }
   ],
   "source": [
    "lst = []\n",
    "n = int(input(\"Enter number of pdf sheets\"))"
   ]
  },
  {
   "cell_type": "code",
   "execution_count": 35,
   "id": "9e10fd04-7b03-429f-b3a5-1bdd9e13f8c5",
   "metadata": {},
   "outputs": [
    {
     "name": "stdin",
     "output_type": "stream",
     "text": [
      "Enter you want to print 40\n",
      "Enter you want to print 20\n",
      "Enter you want to print 10\n",
      "Enter you want to print 4\n"
     ]
    }
   ],
   "source": [
    "for i in range(0, n):\n",
    "    ele = int(input(\"Enter you want to print\"))\n",
    "    lst.append(ele)"
   ]
  },
  {
   "cell_type": "code",
   "execution_count": 18,
   "id": "6a5f4eb4-a124-4327-9a1e-2423753f2a87",
   "metadata": {},
   "outputs": [
    {
     "data": {
      "text/plain": [
       "[40, 3, 20, 9]"
      ]
     },
     "execution_count": 18,
     "metadata": {},
     "output_type": "execute_result"
    }
   ],
   "source": [
    "lst"
   ]
  },
  {
   "cell_type": "code",
   "execution_count": 18,
   "id": "2a4cff11-e513-4733-b1b8-024e20ffbaf7",
   "metadata": {},
   "outputs": [
    {
     "data": {
      "text/plain": [
       "[40, 3, 20, 9]"
      ]
     },
     "execution_count": 18,
     "metadata": {},
     "output_type": "execute_result"
    }
   ],
   "source": [
    "lst"
   ]
  },
  {
   "cell_type": "code",
   "execution_count": 25,
   "id": "e4c94aaf-3c91-4301-9b0c-d7dbedbe9bb7",
   "metadata": {},
   "outputs": [
    {
     "data": {
      "text/plain": [
       "['../data/test.pdf']"
      ]
     },
     "execution_count": 25,
     "metadata": {},
     "output_type": "execute_result"
    }
   ],
   "source": [
    "files"
   ]
  },
  {
   "cell_type": "code",
   "execution_count": 36,
   "id": "648f62c6-cda9-449d-b488-b927ef8e40da",
   "metadata": {},
   "outputs": [
    {
     "name": "stdout",
     "output_type": "stream",
     "text": [
      "No\n",
      "No\n",
      "No\n",
      "No\n",
      "0 is a num of [40, 20, 10, 4].\n",
      "No\n",
      "No\n",
      "No\n",
      "No\n",
      "No\n",
      "0 is a num of [40, 20, 10, 4].\n",
      "No\n",
      "No\n",
      "No\n",
      "No\n",
      "No\n",
      "No\n",
      "No\n",
      "No\n",
      "No\n",
      "0 is a num of [40, 20, 10, 4].\n",
      "No\n",
      "No\n",
      "No\n",
      "No\n",
      "No\n",
      "No\n",
      "No\n",
      "No\n",
      "No\n",
      "No\n",
      "No\n",
      "No\n",
      "No\n",
      "No\n",
      "No\n",
      "No\n",
      "No\n",
      "No\n",
      "No\n",
      "0 is a num of [40, 20, 10, 4].\n",
      "No\n",
      "No\n",
      "No\n",
      "No\n",
      "No\n",
      "No\n",
      "No\n",
      "No\n",
      "No\n",
      "No\n",
      "No\n",
      "No\n",
      "No\n",
      "No\n",
      "No\n",
      "No\n",
      "No\n",
      "No\n",
      "No\n",
      "No\n",
      "No\n",
      "No\n",
      "No\n",
      "No\n",
      "No\n",
      "No\n",
      "No\n",
      "No\n",
      "No\n",
      "No\n",
      "No\n",
      "No\n",
      "No\n",
      "No\n",
      "No\n",
      "No\n",
      "No\n",
      "No\n",
      "No\n",
      "No\n",
      "No\n",
      "No\n",
      "No\n",
      "No\n",
      "No\n",
      "No\n",
      "No\n",
      "No\n",
      "No\n",
      "No\n",
      "No\n",
      "No\n",
      "No\n",
      "No\n",
      "No\n",
      "No\n",
      "No\n",
      "No\n",
      "No\n",
      "No\n",
      "No\n",
      "No\n",
      "No\n",
      "No\n",
      "No\n",
      "No\n",
      "No\n",
      "No\n"
     ]
    }
   ],
   "source": [
    "for i in range(len(files)):\n",
    "    reader = pd.PdfFileReader(files[i])\n",
    "    for l in range(0, reader.numPages):\n",
    "        \n",
    "        if l in lst:\n",
    "            print(f'{i} is a num of {lst}.')\n",
    "            page = reader.pages[i]\n",
    "            writer.addPage(page)\n",
    "        else:\n",
    "            print(\"No\")\n",
    "    \n",
    "               "
   ]
  },
  {
   "cell_type": "code",
   "execution_count": 24,
   "id": "a11231d8-f887-415e-b066-36da19acedaa",
   "metadata": {},
   "outputs": [
    {
     "name": "stdout",
     "output_type": "stream",
     "text": [
      "0\n"
     ]
    }
   ],
   "source": [
    "for i in range(len(files)):\n",
    "    print(i)\n",
    "    "
   ]
  },
  {
   "cell_type": "code",
   "execution_count": 20,
   "id": "b809fb6f-586a-44fe-a82c-6b4955f69a1d",
   "metadata": {},
   "outputs": [],
   "source": [
    "with open(\"compine1pge.pdf\", 'wb') as f:\n",
    "    writer.write(f)"
   ]
  },
  {
   "cell_type": "code",
   "execution_count": 11,
   "id": "c525be13-972a-483b-b8cd-09d6853beea0",
   "metadata": {},
   "outputs": [
    {
     "data": {
      "text/plain": [
       "[30, 40, 50, 20, 10]"
      ]
     },
     "execution_count": 11,
     "metadata": {},
     "output_type": "execute_result"
    }
   ],
   "source": [
    "lst"
   ]
  },
  {
   "cell_type": "code",
   "execution_count": 23,
   "id": "9296a56a-711b-496f-9f91-a14b6c9c7175",
   "metadata": {},
   "outputs": [
    {
     "data": {
      "text/plain": [
       "['../data/test.pdf']"
      ]
     },
     "execution_count": 23,
     "metadata": {},
     "output_type": "execute_result"
    }
   ],
   "source": [
    "files"
   ]
  },
  {
   "cell_type": "code",
   "execution_count": 27,
   "id": "c6d9f8f7-d318-40ea-ae11-e684fe1933c1",
   "metadata": {},
   "outputs": [
    {
     "data": {
      "text/plain": [
       "109"
      ]
     },
     "execution_count": 27,
     "metadata": {},
     "output_type": "execute_result"
    }
   ],
   "source": [
    "reader.numPages"
   ]
  },
  {
   "cell_type": "code",
   "execution_count": 29,
   "id": "a55cdea7-5739-438a-9376-2271a2d807b9",
   "metadata": {},
   "outputs": [
    {
     "name": "stdout",
     "output_type": "stream",
     "text": [
      "0\n",
      "1\n",
      "2\n",
      "3\n",
      "4\n",
      "5\n",
      "6\n",
      "7\n",
      "8\n",
      "9\n",
      "10\n",
      "11\n",
      "12\n",
      "13\n",
      "14\n",
      "15\n",
      "16\n",
      "17\n",
      "18\n",
      "19\n",
      "20\n",
      "21\n",
      "22\n",
      "23\n",
      "24\n",
      "25\n",
      "26\n",
      "27\n",
      "28\n",
      "29\n",
      "30\n",
      "31\n",
      "32\n",
      "33\n",
      "34\n",
      "35\n",
      "36\n",
      "37\n",
      "38\n",
      "39\n",
      "40\n",
      "41\n",
      "42\n",
      "43\n",
      "44\n",
      "45\n",
      "46\n",
      "47\n",
      "48\n",
      "49\n",
      "50\n",
      "51\n",
      "52\n",
      "53\n",
      "54\n",
      "55\n",
      "56\n",
      "57\n",
      "58\n",
      "59\n",
      "60\n",
      "61\n",
      "62\n",
      "63\n",
      "64\n",
      "65\n",
      "66\n",
      "67\n",
      "68\n",
      "69\n",
      "70\n",
      "71\n",
      "72\n",
      "73\n",
      "74\n",
      "75\n",
      "76\n",
      "77\n",
      "78\n",
      "79\n",
      "80\n",
      "81\n",
      "82\n",
      "83\n",
      "84\n",
      "85\n",
      "86\n",
      "87\n",
      "88\n",
      "89\n",
      "90\n",
      "91\n",
      "92\n",
      "93\n",
      "94\n",
      "95\n",
      "96\n",
      "97\n",
      "98\n",
      "99\n",
      "100\n",
      "101\n",
      "102\n",
      "103\n",
      "104\n",
      "105\n",
      "106\n",
      "107\n",
      "108\n"
     ]
    }
   ],
   "source": [
    "for i in range(0, reader.numPages):\n",
    "    print(i)"
   ]
  },
  {
   "cell_type": "code",
   "execution_count": null,
   "id": "68ac9aa7-c9aa-4103-8cc2-4af1fff3901f",
   "metadata": {},
   "outputs": [],
   "source": []
  }
 ],
 "metadata": {
  "kernelspec": {
   "display_name": "Python 3 (ipykernel)",
   "language": "python",
   "name": "python3"
  },
  "language_info": {
   "codemirror_mode": {
    "name": "ipython",
    "version": 3
   },
   "file_extension": ".py",
   "mimetype": "text/x-python",
   "name": "python",
   "nbconvert_exporter": "python",
   "pygments_lexer": "ipython3",
   "version": "3.10.9"
  }
 },
 "nbformat": 4,
 "nbformat_minor": 5
}
