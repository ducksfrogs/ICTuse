{
 "cells": [
  {
   "cell_type": "code",
   "execution_count": 1,
   "id": "16fc2c3a-a2f9-48cb-968e-c8a87a480e2f",
   "metadata": {},
   "outputs": [],
   "source": [
    "import fitz"
   ]
  },
  {
   "cell_type": "code",
   "execution_count": 2,
   "id": "6c160e45-4f05-450e-bc21-c5955e3177cd",
   "metadata": {},
   "outputs": [],
   "source": [
    "import openpyxl as px"
   ]
  },
  {
   "cell_type": "code",
   "execution_count": 3,
   "id": "7255e0de-c8e1-412b-b945-c496030ecac8",
   "metadata": {},
   "outputs": [],
   "source": [
    "from openpyxl.styles import Alignment"
   ]
  },
  {
   "cell_type": "code",
   "execution_count": 4,
   "id": "817caf8d-7fe7-49cf-9c5c-d1201ca3227e",
   "metadata": {},
   "outputs": [],
   "source": [
    "txt_list = []"
   ]
  },
  {
   "cell_type": "code",
   "execution_count": 5,
   "id": "5afbde17-f1fb-4c58-b401-2ffa8724d9ce",
   "metadata": {},
   "outputs": [],
   "source": [
    "filename = '../pdf/kokugo.pdf'\n",
    "doc = fitz.open(filename)"
   ]
  },
  {
   "cell_type": "code",
   "execution_count": null,
   "id": "f2a73043-d55f-451d-bb26-34226de65c95",
   "metadata": {},
   "outputs": [],
   "source": [
    "for page in range(len(doc)):\n",
    "    text = doc[page].get_text()\n",
    "    text = text.replace('\\n','')\n",
    "    txt_list.append([page+1,text]"
   ]
  }
 ],
 "metadata": {
  "kernelspec": {
   "display_name": "Python 3 (ipykernel)",
   "language": "python",
   "name": "python3"
  },
  "language_info": {
   "codemirror_mode": {
    "name": "ipython",
    "version": 3
   },
   "file_extension": ".py",
   "mimetype": "text/x-python",
   "name": "python",
   "nbconvert_exporter": "python",
   "pygments_lexer": "ipython3",
   "version": "3.11.3"
  }
 },
 "nbformat": 4,
 "nbformat_minor": 5
}
