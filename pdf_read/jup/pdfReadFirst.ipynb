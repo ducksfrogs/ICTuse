{
 "cells": [
  {
   "cell_type": "code",
   "execution_count": 16,
   "id": "16fc2c3a-a2f9-48cb-968e-c8a87a480e2f",
   "metadata": {},
   "outputs": [],
   "source": [
    "import fitz"
   ]
  },
  {
   "cell_type": "code",
   "execution_count": 9,
   "id": "6c160e45-4f05-450e-bc21-c5955e3177cd",
   "metadata": {},
   "outputs": [],
   "source": [
    "import openpyxl as px"
   ]
  },
  {
   "cell_type": "code",
   "execution_count": 17,
   "id": "7255e0de-c8e1-412b-b945-c496030ecac8",
   "metadata": {},
   "outputs": [],
   "source": [
    "from openpyxl.styles import Alignment"
   ]
  },
  {
   "cell_type": "code",
   "execution_count": 18,
   "id": "817caf8d-7fe7-49cf-9c5c-d1201ca3227e",
   "metadata": {},
   "outputs": [],
   "source": [
    "txt_list = []"
   ]
  },
  {
   "cell_type": "code",
   "execution_count": 19,
   "id": "5afbde17-f1fb-4c58-b401-2ffa8724d9ce",
   "metadata": {},
   "outputs": [],
   "source": [
    "filename = '../pdf/kokugo.pdf'\n",
    "doc = fitz.open(filename)"
   ]
  },
  {
   "cell_type": "code",
   "execution_count": 20,
   "id": "f2a73043-d55f-451d-bb26-34226de65c95",
   "metadata": {},
   "outputs": [],
   "source": [
    "for page in range(len(doc)):\n",
    "    text = doc[page].get_text()\n",
    "    text = text.replace('\\n','')\n",
    "    txt_list.append([page+1,text])"
   ]
  },
  {
   "cell_type": "code",
   "execution_count": 22,
   "id": "e698a0a2-1a39-4c9a-b6fd-7e2d6e2d69cb",
   "metadata": {},
   "outputs": [],
   "source": [
    "import pandas as pd"
   ]
  },
  {
   "cell_type": "code",
   "execution_count": 24,
   "id": "7df5f3d3-46b8-453f-b1ac-a11fb53218fa",
   "metadata": {},
   "outputs": [],
   "source": [
    "pandaCsv = pd.DataFrame(txt_list)"
   ]
  },
  {
   "cell_type": "code",
   "execution_count": 25,
   "id": "e70803a4-5053-4889-8109-e3adfa5dc6b5",
   "metadata": {},
   "outputs": [],
   "source": [
    "pandaCsv.to_csv('file/data.csv')"
   ]
  },
  {
   "cell_type": "code",
   "execution_count": null,
   "id": "4dd4358d-be90-4aa9-8b90-ee0f33473d29",
   "metadata": {},
   "outputs": [],
   "source": []
  }
 ],
 "metadata": {
  "kernelspec": {
   "display_name": "Python 3 (ipykernel)",
   "language": "python",
   "name": "python3"
  },
  "language_info": {
   "codemirror_mode": {
    "name": "ipython",
    "version": 3
   },
   "file_extension": ".py",
   "mimetype": "text/x-python",
   "name": "python",
   "nbconvert_exporter": "python",
   "pygments_lexer": "ipython3",
   "version": "3.11.3"
  }
 },
 "nbformat": 4,
 "nbformat_minor": 5
}
